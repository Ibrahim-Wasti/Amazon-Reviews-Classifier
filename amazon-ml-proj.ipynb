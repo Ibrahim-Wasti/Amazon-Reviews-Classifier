{
 "cells": [
  {
   "cell_type": "code",
   "execution_count": 1,
   "metadata": {},
   "outputs": [],
   "source": [
    "import numpy as np\n",
    "import pandas as pd\n",
    "import seaborn as sns\n",
    "import random\n",
    "import json\n",
    "import matplotlib.pyplot as plt\n",
    "from sklearn.model_selection import train_test_split"
   ]
  },
  {
   "cell_type": "markdown",
   "metadata": {},
   "source": [
    "#### Loading in the data "
   ]
  },
  {
   "cell_type": "code",
   "execution_count": 2,
   "metadata": {},
   "outputs": [],
   "source": [
    "class Sentiment:\n",
    "    NEUTRAL = 'Neutral'\n",
    "    NEGATIVE = 'Negative'\n",
    "    POSITIVE = 'Positive'\n",
    "\n",
    "class Review:\n",
    "    def __init__(self,text,rating):\n",
    "        self.text = text\n",
    "        self.rating = rating\n",
    "        self.sentiment = self.get_sentiment()\n",
    "    def get_sentiment(self):\n",
    "        if self.rating <= 2:\n",
    "            return Sentiment.NEGATIVE\n",
    "        elif self.rating == 3:\n",
    "            return Sentiment.NEUTRAL\n",
    "        else:\n",
    "            return Sentiment.POSITIVE\n",
    "        \n",
    "class ReviewContainer():\n",
    "    def __init__(self, reviews):\n",
    "        self.reviews = reviews\n",
    "    def get_text(self):\n",
    "        return [i.text for i in self.reviews]\n",
    "    def get_sentiment(self):\n",
    "        return [i.sentiment for i in self.reviews]\n",
    "    def evenly_distribute(self):\n",
    "        negative = list(filter(lambda i: i.sentiment == Sentiment.NEGATIVE, self.reviews))\n",
    "        positive = list(filter(lambda i: i.sentiment == Sentiment.POSITIVE, self.reviews))\n",
    "        equal_pos = positive[:len(negative)]\n",
    "        self.reviews = negative + equal_pos\n",
    "        random.shuffle(self.reviews)\n",
    "    "
   ]
  },
  {
   "cell_type": "code",
   "execution_count": 3,
   "metadata": {},
   "outputs": [],
   "source": [
    "file_name = './Books_reviews.json'\n",
    "\n",
    "reviews = []\n",
    "with open(file_name) as f:\n",
    "    for line in f:\n",
    "        review = json.loads(line)\n",
    "        reviews.append(Review(review['reviewText'],review['overall']))"
   ]
  },
  {
   "cell_type": "code",
   "execution_count": 4,
   "metadata": {},
   "outputs": [
    {
     "data": {
      "text/plain": [
       "5.0"
      ]
     },
     "execution_count": 4,
     "metadata": {},
     "output_type": "execute_result"
    }
   ],
   "source": [
    "reviews[5].rating"
   ]
  },
  {
   "cell_type": "code",
   "execution_count": 5,
   "metadata": {},
   "outputs": [],
   "source": [
    "train,test = train_test_split(reviews, test_size=0.2,random_state=27)"
   ]
  },
  {
   "cell_type": "code",
   "execution_count": 6,
   "metadata": {},
   "outputs": [
    {
     "data": {
      "text/plain": [
       "'it was a good book overall. I am 10 years old. this book is meant for 8 and 9 year-olds. it was trying to make it appealing to ages 8-12, but it just isn\\'t working out. I didn\\'t understand the \"romance\" between Cassandra and Apllo.'"
      ]
     },
     "execution_count": 6,
     "metadata": {},
     "output_type": "execute_result"
    }
   ],
   "source": [
    "train[0].text"
   ]
  },
  {
   "cell_type": "code",
   "execution_count": 7,
   "metadata": {},
   "outputs": [],
   "source": [
    "train_x, train_y = [i.text for i in train], [i.sentiment for i in train]\n",
    "test_x, test_y = [i.text for i in test], [i.sentiment for i in test]"
   ]
  },
  {
   "cell_type": "markdown",
   "metadata": {},
   "source": [
    "### Bag of words vectorization"
   ]
  },
  {
   "cell_type": "code",
   "execution_count": 8,
   "metadata": {},
   "outputs": [],
   "source": [
    "from sklearn.feature_extraction.text import CountVectorizer,TfidfVectorizer"
   ]
  },
  {
   "cell_type": "code",
   "execution_count": 9,
   "metadata": {},
   "outputs": [],
   "source": [
    "vectorizer = TfidfVectorizer()\n",
    "vector_x = vectorizer.fit_transform(train_x)\n",
    "vector_test_x = vectorizer.transform(test_x)"
   ]
  },
  {
   "cell_type": "markdown",
   "metadata": {},
   "source": [
    "### Building models"
   ]
  },
  {
   "cell_type": "code",
   "execution_count": 10,
   "metadata": {},
   "outputs": [
    {
     "data": {
      "text/plain": [
       "SVC(kernel='linear')"
      ]
     },
     "execution_count": 10,
     "metadata": {},
     "output_type": "execute_result"
    }
   ],
   "source": [
    "from sklearn import svm\n",
    "\n",
    "clf_svc = svm.SVC(kernel='linear')\n",
    "clf_svc.fit(vector_x,train_y)"
   ]
  },
  {
   "cell_type": "code",
   "execution_count": 11,
   "metadata": {},
   "outputs": [
    {
     "data": {
      "text/plain": [
       "array(['Positive'], dtype='<U8')"
      ]
     },
     "execution_count": 11,
     "metadata": {},
     "output_type": "execute_result"
    }
   ],
   "source": [
    "clf_svc.predict(vector_test_x[0])"
   ]
  },
  {
   "cell_type": "code",
   "execution_count": 12,
   "metadata": {},
   "outputs": [
    {
     "data": {
      "text/plain": [
       "DecisionTreeClassifier(random_state=27)"
      ]
     },
     "execution_count": 12,
     "metadata": {},
     "output_type": "execute_result"
    }
   ],
   "source": [
    "from sklearn.tree import DecisionTreeClassifier\n",
    "\n",
    "clf_tree = DecisionTreeClassifier(random_state=27)\n",
    "clf_tree.fit(vector_x,train_y)"
   ]
  },
  {
   "cell_type": "code",
   "execution_count": 13,
   "metadata": {},
   "outputs": [
    {
     "data": {
      "text/plain": [
       "array(['Positive'], dtype='<U8')"
      ]
     },
     "execution_count": 13,
     "metadata": {},
     "output_type": "execute_result"
    }
   ],
   "source": [
    "clf_tree.predict(vector_test_x[0])"
   ]
  },
  {
   "cell_type": "code",
   "execution_count": 14,
   "metadata": {},
   "outputs": [
    {
     "data": {
      "text/plain": [
       "GaussianNB()"
      ]
     },
     "execution_count": 14,
     "metadata": {},
     "output_type": "execute_result"
    }
   ],
   "source": [
    "from sklearn.naive_bayes import GaussianNB\n",
    "\n",
    "clf_g = GaussianNB()\n",
    "clf_g.fit(vector_x.toarray(),train_y)"
   ]
  },
  {
   "cell_type": "code",
   "execution_count": 15,
   "metadata": {},
   "outputs": [
    {
     "data": {
      "text/plain": [
       "array(['Positive'], dtype='<U8')"
      ]
     },
     "execution_count": 15,
     "metadata": {},
     "output_type": "execute_result"
    }
   ],
   "source": [
    "clf_g.predict(vector_test_x[0].toarray())"
   ]
  },
  {
   "cell_type": "code",
   "execution_count": 16,
   "metadata": {},
   "outputs": [
    {
     "data": {
      "text/plain": [
       "LogisticRegression(max_iter=5000)"
      ]
     },
     "execution_count": 16,
     "metadata": {},
     "output_type": "execute_result"
    }
   ],
   "source": [
    "from sklearn.linear_model import LogisticRegression\n",
    "\n",
    "clf_log = LogisticRegression(max_iter=5000)\n",
    "clf_log.fit(vector_x,train_y)"
   ]
  },
  {
   "cell_type": "code",
   "execution_count": 17,
   "metadata": {},
   "outputs": [
    {
     "data": {
      "text/plain": [
       "array(['Positive'], dtype='<U8')"
      ]
     },
     "execution_count": 17,
     "metadata": {},
     "output_type": "execute_result"
    }
   ],
   "source": [
    "clf_log.predict(vector_test_x[0])"
   ]
  },
  {
   "cell_type": "markdown",
   "metadata": {},
   "source": [
    "#### Scoring the models"
   ]
  },
  {
   "cell_type": "markdown",
   "metadata": {},
   "source": [
    "Mean Accuracy"
   ]
  },
  {
   "cell_type": "code",
   "execution_count": 18,
   "metadata": {},
   "outputs": [
    {
     "name": "stdout",
     "output_type": "stream",
     "text": [
      "SVC Score:  0.8505\n",
      "Tree Score:  0.764\n",
      "GNB Score:  0.6335\n",
      "Log Score:  0.85\n"
     ]
    }
   ],
   "source": [
    "print('SVC Score: ', clf_svc.score(vector_test_x,test_y))\n",
    "print('Tree Score: ', clf_tree.score(vector_test_x,test_y))\n",
    "print('GNB Score: ', clf_g.score(vector_test_x.toarray(),test_y))\n",
    "print('Log Score: ', clf_log.score(vector_test_x,test_y))"
   ]
  },
  {
   "cell_type": "markdown",
   "metadata": {},
   "source": [
    "F1 Score"
   ]
  },
  {
   "cell_type": "code",
   "execution_count": 19,
   "metadata": {},
   "outputs": [],
   "source": [
    "from sklearn.metrics import f1_score"
   ]
  },
  {
   "cell_type": "code",
   "execution_count": 20,
   "metadata": {},
   "outputs": [
    {
     "name": "stdout",
     "output_type": "stream",
     "text": [
      "SVC f1 Score:  [0.92200557 0.12448133 0.36686391]\n",
      "Tree f1 Score:  [0.87301587 0.1160221  0.18644068]\n",
      "GNB f1 Score:  [0.77510427 0.12747253 0.14018692]\n",
      "LOG f1 Score:  [0.92166667 0.16064257 0.2781457 ]\n"
     ]
    }
   ],
   "source": [
    "print('SVC f1 Score: ',f1_score(test_y, clf_svc.predict(vector_test_x),average=None,labels=[Sentiment.POSITIVE,Sentiment.NEUTRAL,Sentiment.NEGATIVE]))\n",
    "print('Tree f1 Score: ',f1_score(test_y, clf_tree.predict(vector_test_x),average=None,labels=[Sentiment.POSITIVE,Sentiment.NEUTRAL,Sentiment.NEGATIVE]))\n",
    "print('GNB f1 Score: ',f1_score(test_y, clf_g.predict(vector_test_x.toarray()),average=None,labels=[Sentiment.POSITIVE,Sentiment.NEUTRAL,Sentiment.NEGATIVE]))\n",
    "print('LOG f1 Score: ',f1_score(test_y, clf_log.predict(vector_test_x),average=None,labels=[Sentiment.POSITIVE,Sentiment.NEUTRAL,Sentiment.NEGATIVE]))"
   ]
  },
  {
   "cell_type": "markdown",
   "metadata": {},
   "source": [
    "- We can see all models are performing inadequately on negative and neutral predictions, which leads me to believe we have uneven data "
   ]
  },
  {
   "cell_type": "code",
   "execution_count": 21,
   "metadata": {},
   "outputs": [
    {
     "name": "stdout",
     "output_type": "stream",
     "text": [
      "POSITIVE: 6708\n",
      "NEGATIVE: 523\n",
      "NEUTRAL: 769\n"
     ]
    }
   ],
   "source": [
    "print('POSITIVE:', train_y.count(Sentiment.POSITIVE))\n",
    "print('NEGATIVE:', train_y.count(Sentiment.NEGATIVE))\n",
    "print('NEUTRAL:', train_y.count(Sentiment.NEUTRAL))"
   ]
  },
  {
   "cell_type": "markdown",
   "metadata": {},
   "source": [
    "- We can see above that a vast majority of the data is positive so the models cannot train properly on negative and neutral"
   ]
  },
  {
   "cell_type": "markdown",
   "metadata": {},
   "source": [
    "- We created a container class to allow us to shrink the number of positive reviews in the training data and shuffling the data"
   ]
  },
  {
   "cell_type": "code",
   "execution_count": 22,
   "metadata": {},
   "outputs": [],
   "source": [
    "train_container = ReviewContainer(train)\n",
    "train_container.evenly_distribute()\n",
    "test_container = ReviewContainer(test)\n",
    "test_container.evenly_distribute()"
   ]
  },
  {
   "cell_type": "code",
   "execution_count": 23,
   "metadata": {},
   "outputs": [],
   "source": [
    "c_train_x = train_container.get_text()\n",
    "c_train_y = train_container.get_sentiment()\n",
    "\n",
    "c_test_x = test_container.get_text()\n",
    "c_test_y = test_container.get_sentiment()"
   ]
  },
  {
   "cell_type": "code",
   "execution_count": 24,
   "metadata": {},
   "outputs": [
    {
     "name": "stdout",
     "output_type": "stream",
     "text": [
      "523\n",
      "523\n"
     ]
    }
   ],
   "source": [
    "print(c_train_y.count(Sentiment.POSITIVE))\n",
    "print(c_train_y.count(Sentiment.NEGATIVE))"
   ]
  },
  {
   "cell_type": "markdown",
   "metadata": {},
   "source": [
    "- We can see we have the same number of positive and negative observations now"
   ]
  },
  {
   "cell_type": "code",
   "execution_count": 25,
   "metadata": {},
   "outputs": [],
   "source": [
    "vector_cont_x = vectorizer.fit_transform(c_train_x)\n",
    "vector_cont_test_x = vectorizer.transform(c_test_x)"
   ]
  },
  {
   "cell_type": "code",
   "execution_count": 26,
   "metadata": {},
   "outputs": [
    {
     "data": {
      "text/plain": [
       "SVC(kernel='linear')"
      ]
     },
     "execution_count": 26,
     "metadata": {},
     "output_type": "execute_result"
    }
   ],
   "source": [
    "clf_svc = svm.SVC(kernel='linear')\n",
    "clf_svc.fit(vector_cont_x,c_train_y)"
   ]
  },
  {
   "cell_type": "code",
   "execution_count": 27,
   "metadata": {},
   "outputs": [
    {
     "data": {
      "text/plain": [
       "DecisionTreeClassifier(random_state=27)"
      ]
     },
     "execution_count": 27,
     "metadata": {},
     "output_type": "execute_result"
    }
   ],
   "source": [
    "clf_tree = DecisionTreeClassifier(random_state=27)\n",
    "clf_tree.fit(vector_cont_x,c_train_y)"
   ]
  },
  {
   "cell_type": "code",
   "execution_count": 28,
   "metadata": {},
   "outputs": [
    {
     "data": {
      "text/plain": [
       "GaussianNB()"
      ]
     },
     "execution_count": 28,
     "metadata": {},
     "output_type": "execute_result"
    }
   ],
   "source": [
    "clf_g = GaussianNB()\n",
    "clf_g.fit(vector_cont_x.toarray(),c_train_y)"
   ]
  },
  {
   "cell_type": "code",
   "execution_count": 29,
   "metadata": {},
   "outputs": [
    {
     "data": {
      "text/plain": [
       "LogisticRegression(max_iter=5000)"
      ]
     },
     "execution_count": 29,
     "metadata": {},
     "output_type": "execute_result"
    }
   ],
   "source": [
    "clf_log = LogisticRegression(max_iter=5000)\n",
    "clf_log.fit(vector_cont_x,c_train_y)"
   ]
  },
  {
   "cell_type": "code",
   "execution_count": 30,
   "metadata": {},
   "outputs": [
    {
     "name": "stdout",
     "output_type": "stream",
     "text": [
      "SVC Score:  0.859504132231405\n",
      "Tree Score:  0.7148760330578512\n",
      "GNB Score:  0.6074380165289256\n",
      "Log Score:  0.8677685950413223\n"
     ]
    }
   ],
   "source": [
    "print('SVC Score: ', clf_svc.score(vector_cont_test_x,c_test_y))\n",
    "print('Tree Score: ', clf_tree.score(vector_cont_test_x,c_test_y))\n",
    "print('GNB Score: ', clf_g.score(vector_cont_test_x.toarray(),c_test_y))\n",
    "print('Log Score: ', clf_log.score(vector_cont_test_x,c_test_y))"
   ]
  },
  {
   "cell_type": "code",
   "execution_count": 31,
   "metadata": {},
   "outputs": [
    {
     "name": "stdout",
     "output_type": "stream",
     "text": [
      "SVC f1 Score:  [0.86178862 0.85714286]\n",
      "Tree f1 Score:  [0.71369295 0.71604938]\n",
      "GNB f1 Score:  [0.6090535  0.60580913]\n",
      "LOG f1 Score:  [0.86885246 0.86666667]\n"
     ]
    }
   ],
   "source": [
    "print('SVC f1 Score: ',f1_score(c_test_y, clf_svc.predict(vector_cont_test_x),average=None,labels=[Sentiment.POSITIVE,Sentiment.NEGATIVE]))\n",
    "print('Tree f1 Score: ',f1_score(c_test_y, clf_tree.predict(vector_cont_test_x),average=None,labels=[Sentiment.POSITIVE,Sentiment.NEGATIVE]))\n",
    "print('GNB f1 Score: ',f1_score(c_test_y, clf_g.predict(vector_cont_test_x.toarray()),average=None,labels=[Sentiment.POSITIVE,Sentiment.NEGATIVE]))\n",
    "print('LOG f1 Score: ',f1_score(c_test_y, clf_log.predict(vector_cont_test_x),average=None,labels=[Sentiment.POSITIVE,Sentiment.NEGATIVE]))"
   ]
  },
  {
   "cell_type": "markdown",
   "metadata": {},
   "source": [
    "#### Model tuning using gridsearch\n",
    "\n",
    "- Going to be using the SVC model for tuning as it has the best scores as a base model "
   ]
  },
  {
   "cell_type": "code",
   "execution_count": 32,
   "metadata": {},
   "outputs": [],
   "source": [
    "from sklearn.model_selection import GridSearchCV"
   ]
  },
  {
   "cell_type": "code",
   "execution_count": 33,
   "metadata": {},
   "outputs": [
    {
     "name": "stdout",
     "output_type": "stream",
     "text": [
      "Fitting 5 folds for each of 144 candidates, totalling 720 fits\n"
     ]
    },
    {
     "data": {
      "text/plain": [
       "GridSearchCV(cv=5, estimator=SVC(kernel='linear'),\n",
       "             param_grid={'C': [1, 2, 4, 8, 16, 32], 'degree': [1, 3, 5],\n",
       "                         'gamma': ['scale', 'auto'],\n",
       "                         'kernel': ['linear', 'rbf', 'poly', 'sigmoid']},\n",
       "             verbose=1)"
      ]
     },
     "execution_count": 33,
     "metadata": {},
     "output_type": "execute_result"
    }
   ],
   "source": [
    "param_grid = {'kernel':['linear','rbf','poly','sigmoid'],\n",
    "              'C':[1,2,4,8,16,32],\n",
    "              'gamma':['scale','auto'],\n",
    "              'degree':[1,3,5]}\n",
    "tuner = GridSearchCV(clf_svc, param_grid,verbose=1, cv=5)\n",
    "tuner.fit(vector_cont_x,c_train_y)"
   ]
  },
  {
   "cell_type": "code",
   "execution_count": 34,
   "metadata": {},
   "outputs": [
    {
     "data": {
      "text/plain": [
       "{'C': 2, 'degree': 1, 'gamma': 'scale', 'kernel': 'rbf'}"
      ]
     },
     "execution_count": 34,
     "metadata": {},
     "output_type": "execute_result"
    }
   ],
   "source": [
    "tuner.best_params_"
   ]
  },
  {
   "cell_type": "code",
   "execution_count": 35,
   "metadata": {},
   "outputs": [
    {
     "name": "stdout",
     "output_type": "stream",
     "text": [
      "0.8636363636363636\n",
      "Tuned Score:  [0.86639676 0.86075949]\n"
     ]
    }
   ],
   "source": [
    "print(tuner.score(vector_cont_test_x,c_test_y))\n",
    "print('Tuned Score: ',f1_score(c_test_y, tuner.predict(vector_cont_test_x),average=None,labels=[Sentiment.POSITIVE,Sentiment.NEGATIVE]))"
   ]
  },
  {
   "cell_type": "markdown",
   "metadata": {},
   "source": [
    "### Saving the model"
   ]
  },
  {
   "cell_type": "code",
   "execution_count": 38,
   "metadata": {},
   "outputs": [],
   "source": [
    "import pickle\n",
    "\n",
    "with open('./sentiment_classifier.pkl','wb') as f:\n",
    "    pickle.dump(tuner,f)"
   ]
  },
  {
   "cell_type": "code",
   "execution_count": null,
   "metadata": {},
   "outputs": [],
   "source": []
  },
  {
   "cell_type": "code",
   "execution_count": null,
   "metadata": {},
   "outputs": [],
   "source": []
  },
  {
   "cell_type": "code",
   "execution_count": null,
   "metadata": {},
   "outputs": [],
   "source": []
  },
  {
   "cell_type": "code",
   "execution_count": null,
   "metadata": {},
   "outputs": [],
   "source": []
  },
  {
   "cell_type": "code",
   "execution_count": null,
   "metadata": {},
   "outputs": [],
   "source": []
  }
 ],
 "metadata": {
  "kernelspec": {
   "display_name": "Python [conda env:First_ML_Proj]",
   "language": "python",
   "name": "conda-env-First_ML_Proj-py"
  },
  "language_info": {
   "codemirror_mode": {
    "name": "ipython",
    "version": 3
   },
   "file_extension": ".py",
   "mimetype": "text/x-python",
   "name": "python",
   "nbconvert_exporter": "python",
   "pygments_lexer": "ipython3",
   "version": "3.9.2"
  }
 },
 "nbformat": 4,
 "nbformat_minor": 4
}
